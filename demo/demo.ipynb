{
 "cells": [
  {
   "cell_type": "markdown",
   "metadata": {},
   "source": [
    "## InfraSim Demo\n",
    "\n",
    "In this demonstration, we will do the following:\n",
    "\n",
    "- Construct an InfraSim.Thames model\n",
    "- Run the model\n",
    "- Look at the results\n",
    "- Create simple plots of flows and storage volumes"
   ]
  },
  {
   "cell_type": "code",
   "execution_count": 1,
   "metadata": {},
   "outputs": [
    {
     "name": "stdout",
     "output_type": "stream",
     "text": [
      "Using license file /Users/amanmajid/gurobi.lic\n",
      "Academic license - for non-commercial use only\n",
      "Warning: variable name \"arcflow[SWOX GW,SWOX,water,1]\" has a space\n",
      "Warning: constraint name \"upper_bound[SWOX GW,SWOX,water,1]\" has a space\n",
      "Warning: to let Gurobi read it back, use rlp format\n"
     ]
    }
   ],
   "source": [
    "import sys\n",
    "sys.path.append('../')\n",
    "from infrasim.thames import *\n",
    "from infrasim.plotting import *\n",
    "\n",
    "# Define file paths\n",
    "nodes       = '../data/demo/spatial/nodes-demo.shp'\n",
    "edges       = '../data/demo/spatial/edges-demo.shp'\n",
    "flows       = '../data/demo/csv/demo-flows.csv'\n",
    "\n",
    "# initiate\n",
    "thames = Model(nodes,edges,flows,timesteps=1000,super_source=True,super_sink=True)\n",
    "\n",
    "# build\n",
    "thames.build()\n",
    "\n",
    "# run\n",
    "try:\n",
    "    thames.run(pprint=False)    #pprint will print to console\n",
    "except:\n",
    "    thames.debug()"
   ]
  },
  {
   "cell_type": "code",
   "execution_count": 2,
   "metadata": {},
   "outputs": [
    {
     "data": {
      "text/html": [
       "<div>\n",
       "<style scoped>\n",
       "    .dataframe tbody tr th:only-of-type {\n",
       "        vertical-align: middle;\n",
       "    }\n",
       "\n",
       "    .dataframe tbody tr th {\n",
       "        vertical-align: top;\n",
       "    }\n",
       "\n",
       "    .dataframe thead th {\n",
       "        text-align: right;\n",
       "    }\n",
       "</style>\n",
       "<table border=\"1\" class=\"dataframe\">\n",
       "  <thead>\n",
       "    <tr style=\"text-align: right;\">\n",
       "      <th></th>\n",
       "      <th>Start</th>\n",
       "      <th>End</th>\n",
       "      <th>Commodity</th>\n",
       "      <th>Day</th>\n",
       "      <th>Month</th>\n",
       "      <th>Year</th>\n",
       "      <th>Timestep</th>\n",
       "      <th>Value</th>\n",
       "    </tr>\n",
       "  </thead>\n",
       "  <tbody>\n",
       "    <tr>\n",
       "      <th>0</th>\n",
       "      <td>SWOX GW</td>\n",
       "      <td>SWOX</td>\n",
       "      <td>water</td>\n",
       "      <td>1.0</td>\n",
       "      <td>1</td>\n",
       "      <td>2020.0</td>\n",
       "      <td>1</td>\n",
       "      <td>0.0000</td>\n",
       "    </tr>\n",
       "    <tr>\n",
       "      <th>1</th>\n",
       "      <td>Upper Thames</td>\n",
       "      <td>Farmoor</td>\n",
       "      <td>water</td>\n",
       "      <td>1.0</td>\n",
       "      <td>1</td>\n",
       "      <td>2020.0</td>\n",
       "      <td>1</td>\n",
       "      <td>264.3083</td>\n",
       "    </tr>\n",
       "    <tr>\n",
       "      <th>2</th>\n",
       "      <td>Farmoor</td>\n",
       "      <td>SWOX</td>\n",
       "      <td>water</td>\n",
       "      <td>1.0</td>\n",
       "      <td>1</td>\n",
       "      <td>2020.0</td>\n",
       "      <td>1</td>\n",
       "      <td>264.3083</td>\n",
       "    </tr>\n",
       "    <tr>\n",
       "      <th>3</th>\n",
       "      <td>Gatehampton GW</td>\n",
       "      <td>J2</td>\n",
       "      <td>water</td>\n",
       "      <td>1.0</td>\n",
       "      <td>1</td>\n",
       "      <td>2020.0</td>\n",
       "      <td>1</td>\n",
       "      <td>0.0000</td>\n",
       "    </tr>\n",
       "    <tr>\n",
       "      <th>4</th>\n",
       "      <td>Upper Thames</td>\n",
       "      <td>J1</td>\n",
       "      <td>water</td>\n",
       "      <td>1.0</td>\n",
       "      <td>1</td>\n",
       "      <td>2020.0</td>\n",
       "      <td>1</td>\n",
       "      <td>7708.6837</td>\n",
       "    </tr>\n",
       "  </tbody>\n",
       "</table>\n",
       "</div>"
      ],
      "text/plain": [
       "            Start      End Commodity  Day  Month    Year  Timestep      Value\n",
       "0         SWOX GW     SWOX     water  1.0      1  2020.0         1     0.0000\n",
       "1    Upper Thames  Farmoor     water  1.0      1  2020.0         1   264.3083\n",
       "2         Farmoor     SWOX     water  1.0      1  2020.0         1   264.3083\n",
       "3  Gatehampton GW       J2     water  1.0      1  2020.0         1     0.0000\n",
       "4    Upper Thames       J1     water  1.0      1  2020.0         1  7708.6837"
      ]
     },
     "execution_count": 2,
     "metadata": {},
     "output_type": "execute_result"
    }
   ],
   "source": [
    "# Get results of flows along each arc\n",
    "thames.results_arcflows.head(5)"
   ]
  },
  {
   "cell_type": "code",
   "execution_count": 3,
   "metadata": {},
   "outputs": [
    {
     "data": {
      "text/html": [
       "<div>\n",
       "<style scoped>\n",
       "    .dataframe tbody tr th:only-of-type {\n",
       "        vertical-align: middle;\n",
       "    }\n",
       "\n",
       "    .dataframe tbody tr th {\n",
       "        vertical-align: top;\n",
       "    }\n",
       "\n",
       "    .dataframe thead th {\n",
       "        text-align: right;\n",
       "    }\n",
       "</style>\n",
       "<table border=\"1\" class=\"dataframe\">\n",
       "  <thead>\n",
       "    <tr style=\"text-align: right;\">\n",
       "      <th></th>\n",
       "      <th>Node</th>\n",
       "      <th>Commodity</th>\n",
       "      <th>Day</th>\n",
       "      <th>Month</th>\n",
       "      <th>Year</th>\n",
       "      <th>Timestep</th>\n",
       "      <th>Value</th>\n",
       "    </tr>\n",
       "  </thead>\n",
       "  <tbody>\n",
       "    <tr>\n",
       "      <th>0</th>\n",
       "      <td>Farmoor</td>\n",
       "      <td>water</td>\n",
       "      <td>1.0</td>\n",
       "      <td>1</td>\n",
       "      <td>2020.0</td>\n",
       "      <td>1</td>\n",
       "      <td>13822.0</td>\n",
       "    </tr>\n",
       "    <tr>\n",
       "      <th>1</th>\n",
       "      <td>London Storages</td>\n",
       "      <td>water</td>\n",
       "      <td>1.0</td>\n",
       "      <td>1</td>\n",
       "      <td>2020.0</td>\n",
       "      <td>1</td>\n",
       "      <td>202828.0</td>\n",
       "    </tr>\n",
       "    <tr>\n",
       "      <th>36</th>\n",
       "      <td>Farmoor</td>\n",
       "      <td>water</td>\n",
       "      <td>2.0</td>\n",
       "      <td>1</td>\n",
       "      <td>2020.0</td>\n",
       "      <td>2</td>\n",
       "      <td>13822.0</td>\n",
       "    </tr>\n",
       "    <tr>\n",
       "      <th>37</th>\n",
       "      <td>London Storages</td>\n",
       "      <td>water</td>\n",
       "      <td>2.0</td>\n",
       "      <td>1</td>\n",
       "      <td>2020.0</td>\n",
       "      <td>2</td>\n",
       "      <td>202828.0</td>\n",
       "    </tr>\n",
       "    <tr>\n",
       "      <th>72</th>\n",
       "      <td>Farmoor</td>\n",
       "      <td>water</td>\n",
       "      <td>3.0</td>\n",
       "      <td>1</td>\n",
       "      <td>2020.0</td>\n",
       "      <td>3</td>\n",
       "      <td>13822.0</td>\n",
       "    </tr>\n",
       "  </tbody>\n",
       "</table>\n",
       "</div>"
      ],
      "text/plain": [
       "               Node Commodity  Day  Month    Year  Timestep     Value\n",
       "0           Farmoor     water  1.0      1  2020.0         1   13822.0\n",
       "1   London Storages     water  1.0      1  2020.0         1  202828.0\n",
       "36          Farmoor     water  2.0      1  2020.0         2   13822.0\n",
       "37  London Storages     water  2.0      1  2020.0         2  202828.0\n",
       "72          Farmoor     water  3.0      1  2020.0         3   13822.0"
      ]
     },
     "execution_count": 3,
     "metadata": {},
     "output_type": "execute_result"
    }
   ],
   "source": [
    "# Get results of storage volumes\n",
    "thames.results_storage_volumes.head(5)"
   ]
  },
  {
   "cell_type": "code",
   "execution_count": 4,
   "metadata": {},
   "outputs": [
    {
     "data": {
      "image/png": "[encoded data removed]",
      "text/plain": [
       "<Figure size 576x360 with 1 Axes>"
      ]
     },
     "metadata": {
      "needs_background": "light"
     },
     "output_type": "display_data"
    }
   ],
   "source": [
    "# plot storage volume of Farmoor reservoir\n",
    "plot_storage_volume(thames.results_storage_volumes,node='Farmoor',figsize=(8,5))"
   ]
  },
  {
   "cell_type": "code",
   "execution_count": 5,
   "metadata": {},
   "outputs": [
    {
     "data": {
      "image/png": "[encoded data removed]",
      "text/plain": [
       "<Figure size 576x360 with 1 Axes>"
      ]
     },
     "metadata": {
      "needs_background": "light"
     },
     "output_type": "display_data"
    }
   ],
   "source": [
    "# plot inflow and outflow at Farmoor reservoir\n",
    "plot_inflow_outflow(thames.results_arcflows,node='Farmoor',figsize=(8,5))"
   ]
  },
  {
   "cell_type": "code",
   "execution_count": null,
   "metadata": {},
   "outputs": [],
   "source": []
  }
 ],
 "metadata": {
  "kernelspec": {
   "display_name": "Python 3",
   "language": "python",
   "name": "python3"
  },
  "language_info": {
   "codemirror_mode": {
    "name": "ipython",
    "version": 3
   },
   "file_extension": ".py",
   "mimetype": "text/x-python",
   "name": "python",
   "nbconvert_exporter": "python",
   "pygments_lexer": "ipython3",
   "version": "3.6.10"
  }
 },
 "nbformat": 4,
 "nbformat_minor": 4
}
