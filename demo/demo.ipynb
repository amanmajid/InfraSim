{
 "cells": [
  {
   "cell_type": "markdown",
   "metadata": {},
   "source": [
    "## InfraSim Demo\n",
    "\n",
    "In this demonstration, we will do the following:\n",
    "\n",
    "- Construct an InfraSim.Thames model\n",
    "- Run the model\n",
    "- Look at the results\n",
    "- Create simple plots of flows and storage volumes"
   ]
  },
  {
   "cell_type": "code",
   "execution_count": null,
   "metadata": {},
   "outputs": [
    {
     "name": "stdout",
     "output_type": "stream",
     "text": [
      "Using license file /Users/amanmajid/gurobi.lic\n",
      "Academic license - for non-commercial use only\n"
     ]
    }
   ],
   "source": [
    "import sys\n",
    "sys.path.append('../')\n",
    "from infrasim.thames import *\n",
    "from infrasim.plotting import *\n",
    "\n",
    "# Define file paths\n",
    "nodes       = '../data/demo/spatial/nodes-demo.shp'\n",
    "edges       = '../data/demo/spatial/edges-demo.shp'\n",
    "flows       = '../data/demo/csv/demo-flows.csv'\n",
    "\n",
    "# initiate\n",
    "thames = Model(nodes,edges,flows,timesteps=1000,super_source=True,super_sink=True)\n",
    "\n",
    "# build\n",
    "thames.build()\n",
    "\n",
    "# run\n",
    "try:\n",
    "    thames.run(pprint=False)    #pprint will print to console\n",
    "except:\n",
    "    thames.debug()"
   ]
  },
  {
   "cell_type": "code",
   "execution_count": null,
   "metadata": {},
   "outputs": [],
   "source": [
    "# Get results of flows along each arc\n",
    "thames.results_arcflows.head(5)"
   ]
  },
  {
   "cell_type": "code",
   "execution_count": null,
   "metadata": {},
   "outputs": [],
   "source": [
    "# Get results of storage volumes\n",
    "thames.results_storage_volumes.head(5)"
   ]
  },
  {
   "cell_type": "code",
   "execution_count": null,
   "metadata": {},
   "outputs": [],
   "source": [
    "# plot storage volume of Farmoor reservoir\n",
    "plot_storage_volume(thames.results_storage_volumes,node='Farmoor',figsize=(8,5))"
   ]
  },
  {
   "cell_type": "code",
   "execution_count": null,
   "metadata": {},
   "outputs": [],
   "source": [
    "# plot inflow and outflow at Farmoor reservoir\n",
    "plot_inflow_outflow(thames.results_arcflows,node='Farmoor',figsize=(8,5))"
   ]
  },
  {
   "cell_type": "code",
   "execution_count": null,
   "metadata": {},
   "outputs": [],
   "source": []
  }
 ],
 "metadata": {
  "kernelspec": {
   "display_name": "Python 3",
   "language": "python",
   "name": "python3"
  },
  "language_info": {
   "codemirror_mode": {
    "name": "ipython",
    "version": 3
   },
   "file_extension": ".py",
   "mimetype": "text/x-python",
   "name": "python",
   "nbconvert_exporter": "python",
   "pygments_lexer": "ipython3",
   "version": "3.6.10"
  }
 },
 "nbformat": 4,
 "nbformat_minor": 4
}
